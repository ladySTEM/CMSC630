{
 "cells": [
  {
   "cell_type": "code",
   "execution_count": 1,
   "id": "07bf7b4f",
   "metadata": {},
   "outputs": [],
   "source": [
    "\"\"\"\n",
    "\n",
    "CMSC 630 - Part 3\n",
    "Gabriella Graziani\n",
    "\n",
    "Execution File which processes the csv that contains extracted features\n",
    "Performs 10-fold cross validation with K-Nearest Neighbors Classification\n",
    "\n",
    "\"\"\"\n",
    "\n",
    "\n",
    "import csv\n",
    "import pandas as pd\n",
    "import numpy as np\n",
    "import statistics \n",
    "import Classifier\n",
    "import json\n",
    "from scipy import stats #for standardizing data"
   ]
  },
  {
   "cell_type": "code",
   "execution_count": 2,
   "id": "9cdec569",
   "metadata": {},
   "outputs": [],
   "source": [
    "def main(input_file,k):\n",
    "    dataset = pd.read_csv(input_file)\n",
    "    classifier = Classifier.Classifier() #classifier = Classifier.Classifier(img_height,img_width)\n",
    "    \n",
    "    dataset['perimeter'] = stats.zscore(dataset['perimeter'])\n",
    "    dataset['area'] = stats.zscore(dataset['area'])\n",
    "    dataset['mean_r'] = stats.zscore(dataset['mean_r'])\n",
    "    dataset['mean_g'] = stats.zscore(dataset['mean_g'])\n",
    "    dataset['mean_b'] = stats.zscore(dataset['mean_b'])\n",
    "    dataset['max_h_val'] = stats.zscore(dataset['max_h_val'])\n",
    "    \n",
    "   \n",
    "    #train_data, test_data=classifier.split_data(dataset)\n",
    "\n",
    "    #accuracy = classifier.knn(train_data,test_data,3)\n",
    "\n",
    "    accuracy = classifier.cross_validation(dataset,k)\n",
    "\n",
    "    print(\"Final accuracy = {} for k = {}\".format(accuracy,k))\n"
   ]
  },
  {
   "cell_type": "code",
   "execution_count": 3,
   "id": "bf69cb19",
   "metadata": {},
   "outputs": [
    {
     "name": "stdout",
     "output_type": "stream",
     "text": [
      "Accuracy: 44.89795918367347\n",
      "Accuracy: 40.816326530612244\n",
      "Accuracy: 44.89795918367347\n",
      "Accuracy: 16.3265306122449\n",
      "Accuracy: 38.775510204081634\n",
      "Accuracy: 32.6530612244898\n",
      "Accuracy: 46.93877551020408\n",
      "Accuracy: 26.53061224489796\n",
      "Accuracy: 36.734693877551024\n",
      "Accuracy: 43.75\n",
      "Train data length:  451\n",
      "Final accuracy = 37.23214285714286 for k = 21\n"
     ]
    }
   ],
   "source": [
    "if __name__ == '__main__':\n",
    "    with open('config_csv.json','r') as f:\n",
    "        config = json.load(f)\n",
    "    main(**config)"
   ]
  },
  {
   "cell_type": "code",
   "execution_count": null,
   "id": "03e153e8",
   "metadata": {},
   "outputs": [],
   "source": []
  }
 ],
 "metadata": {
  "kernelspec": {
   "display_name": "Python 3 (ipykernel)",
   "language": "python",
   "name": "python3"
  },
  "language_info": {
   "codemirror_mode": {
    "name": "ipython",
    "version": 3
   },
   "file_extension": ".py",
   "mimetype": "text/x-python",
   "name": "python",
   "nbconvert_exporter": "python",
   "pygments_lexer": "ipython3",
   "version": "3.10.10"
  }
 },
 "nbformat": 4,
 "nbformat_minor": 5
}
